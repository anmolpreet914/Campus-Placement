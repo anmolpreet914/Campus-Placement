{
 "cells": [
  {
   "cell_type": "code",
   "execution_count": 77,
   "metadata": {},
   "outputs": [],
   "source": [
    "#importing the libraries\n",
    "import pandas as pd\n",
    "import numpy as np\n",
    "import matplotlib.pyplot as plt\n",
    "import seaborn as sns"
   ]
  },
  {
   "cell_type": "code",
   "execution_count": 78,
   "metadata": {},
   "outputs": [],
   "source": [
    "#loading the dataset\n",
    "df=pd.read_csv('/Users/User/Downloads/Placement_Data_Full_Class.csv')"
   ]
  },
  {
   "cell_type": "code",
   "execution_count": 79,
   "metadata": {},
   "outputs": [
    {
     "data": {
      "text/html": [
       "<div>\n",
       "<style scoped>\n",
       "    .dataframe tbody tr th:only-of-type {\n",
       "        vertical-align: middle;\n",
       "    }\n",
       "\n",
       "    .dataframe tbody tr th {\n",
       "        vertical-align: top;\n",
       "    }\n",
       "\n",
       "    .dataframe thead th {\n",
       "        text-align: right;\n",
       "    }\n",
       "</style>\n",
       "<table border=\"1\" class=\"dataframe\">\n",
       "  <thead>\n",
       "    <tr style=\"text-align: right;\">\n",
       "      <th></th>\n",
       "      <th>sl_no</th>\n",
       "      <th>gender</th>\n",
       "      <th>ssc_p</th>\n",
       "      <th>ssc_b</th>\n",
       "      <th>hsc_p</th>\n",
       "      <th>hsc_b</th>\n",
       "      <th>hsc_s</th>\n",
       "      <th>degree_p</th>\n",
       "      <th>degree_t</th>\n",
       "      <th>workex</th>\n",
       "      <th>etest_p</th>\n",
       "      <th>specialisation</th>\n",
       "      <th>mba_p</th>\n",
       "      <th>status</th>\n",
       "      <th>salary</th>\n",
       "    </tr>\n",
       "  </thead>\n",
       "  <tbody>\n",
       "    <tr>\n",
       "      <th>0</th>\n",
       "      <td>1</td>\n",
       "      <td>M</td>\n",
       "      <td>67.00</td>\n",
       "      <td>Others</td>\n",
       "      <td>91.00</td>\n",
       "      <td>Others</td>\n",
       "      <td>Commerce</td>\n",
       "      <td>58.00</td>\n",
       "      <td>Sci&amp;Tech</td>\n",
       "      <td>No</td>\n",
       "      <td>55.0</td>\n",
       "      <td>Mkt&amp;HR</td>\n",
       "      <td>58.80</td>\n",
       "      <td>Placed</td>\n",
       "      <td>270000.0</td>\n",
       "    </tr>\n",
       "    <tr>\n",
       "      <th>1</th>\n",
       "      <td>2</td>\n",
       "      <td>M</td>\n",
       "      <td>79.33</td>\n",
       "      <td>Central</td>\n",
       "      <td>78.33</td>\n",
       "      <td>Others</td>\n",
       "      <td>Science</td>\n",
       "      <td>77.48</td>\n",
       "      <td>Sci&amp;Tech</td>\n",
       "      <td>Yes</td>\n",
       "      <td>86.5</td>\n",
       "      <td>Mkt&amp;Fin</td>\n",
       "      <td>66.28</td>\n",
       "      <td>Placed</td>\n",
       "      <td>200000.0</td>\n",
       "    </tr>\n",
       "    <tr>\n",
       "      <th>2</th>\n",
       "      <td>3</td>\n",
       "      <td>M</td>\n",
       "      <td>65.00</td>\n",
       "      <td>Central</td>\n",
       "      <td>68.00</td>\n",
       "      <td>Central</td>\n",
       "      <td>Arts</td>\n",
       "      <td>64.00</td>\n",
       "      <td>Comm&amp;Mgmt</td>\n",
       "      <td>No</td>\n",
       "      <td>75.0</td>\n",
       "      <td>Mkt&amp;Fin</td>\n",
       "      <td>57.80</td>\n",
       "      <td>Placed</td>\n",
       "      <td>250000.0</td>\n",
       "    </tr>\n",
       "    <tr>\n",
       "      <th>3</th>\n",
       "      <td>4</td>\n",
       "      <td>M</td>\n",
       "      <td>56.00</td>\n",
       "      <td>Central</td>\n",
       "      <td>52.00</td>\n",
       "      <td>Central</td>\n",
       "      <td>Science</td>\n",
       "      <td>52.00</td>\n",
       "      <td>Sci&amp;Tech</td>\n",
       "      <td>No</td>\n",
       "      <td>66.0</td>\n",
       "      <td>Mkt&amp;HR</td>\n",
       "      <td>59.43</td>\n",
       "      <td>Not Placed</td>\n",
       "      <td>NaN</td>\n",
       "    </tr>\n",
       "    <tr>\n",
       "      <th>4</th>\n",
       "      <td>5</td>\n",
       "      <td>M</td>\n",
       "      <td>85.80</td>\n",
       "      <td>Central</td>\n",
       "      <td>73.60</td>\n",
       "      <td>Central</td>\n",
       "      <td>Commerce</td>\n",
       "      <td>73.30</td>\n",
       "      <td>Comm&amp;Mgmt</td>\n",
       "      <td>No</td>\n",
       "      <td>96.8</td>\n",
       "      <td>Mkt&amp;Fin</td>\n",
       "      <td>55.50</td>\n",
       "      <td>Placed</td>\n",
       "      <td>425000.0</td>\n",
       "    </tr>\n",
       "  </tbody>\n",
       "</table>\n",
       "</div>"
      ],
      "text/plain": [
       "   sl_no gender  ssc_p    ssc_b  hsc_p    hsc_b     hsc_s  degree_p  \\\n",
       "0      1      M  67.00   Others  91.00   Others  Commerce     58.00   \n",
       "1      2      M  79.33  Central  78.33   Others   Science     77.48   \n",
       "2      3      M  65.00  Central  68.00  Central      Arts     64.00   \n",
       "3      4      M  56.00  Central  52.00  Central   Science     52.00   \n",
       "4      5      M  85.80  Central  73.60  Central  Commerce     73.30   \n",
       "\n",
       "    degree_t workex  etest_p specialisation  mba_p      status    salary  \n",
       "0   Sci&Tech     No     55.0         Mkt&HR  58.80      Placed  270000.0  \n",
       "1   Sci&Tech    Yes     86.5        Mkt&Fin  66.28      Placed  200000.0  \n",
       "2  Comm&Mgmt     No     75.0        Mkt&Fin  57.80      Placed  250000.0  \n",
       "3   Sci&Tech     No     66.0         Mkt&HR  59.43  Not Placed       NaN  \n",
       "4  Comm&Mgmt     No     96.8        Mkt&Fin  55.50      Placed  425000.0  "
      ]
     },
     "execution_count": 79,
     "metadata": {},
     "output_type": "execute_result"
    }
   ],
   "source": [
    "df.head()"
   ]
  },
  {
   "cell_type": "markdown",
   "metadata": {},
   "source": [
    "## Specifying Columns\n",
    "#### 1. sl_no - Serial Number\n",
    "#### 2. gender - Male='M',Female='F'\n",
    "#### 3. ssc_p - Secondary Education percentage- 10th Grade\n",
    "#### 4. ssc_b - Board of Education- Central/ Others\n",
    "#### 5. hsc_p - Higher Secondary Education percentage- 12th Grade\n",
    "#### 6. hsc_b - Board of Education- Central/ Others\n",
    "#### 7. hsc_s - Specialization in Higher Secondary Education\n",
    "#### 8. degree_p - Degree Percentage\n",
    "#### 9. degree_t - Under Graduation(Degree type)- Field of degree education\n",
    "#### 10. workex - Work Experience\n",
    "#### 11. etest_p - Employability test percentage ( conducted by college)\n",
    "#### 12. specialisation - Post Graduation(MBA)- Specialization\n",
    "#### 13. mba_p - MBA percentage\n",
    "#### 14. status - Status of placement- Placed/Not placed\n",
    "#### 15. salary - Salary offered by corporate to candidates"
   ]
  },
  {
   "cell_type": "code",
   "execution_count": 80,
   "metadata": {},
   "outputs": [
    {
     "data": {
      "text/html": [
       "<div>\n",
       "<style scoped>\n",
       "    .dataframe tbody tr th:only-of-type {\n",
       "        vertical-align: middle;\n",
       "    }\n",
       "\n",
       "    .dataframe tbody tr th {\n",
       "        vertical-align: top;\n",
       "    }\n",
       "\n",
       "    .dataframe thead th {\n",
       "        text-align: right;\n",
       "    }\n",
       "</style>\n",
       "<table border=\"1\" class=\"dataframe\">\n",
       "  <thead>\n",
       "    <tr style=\"text-align: right;\">\n",
       "      <th></th>\n",
       "      <th>sl_no</th>\n",
       "      <th>ssc_p</th>\n",
       "      <th>hsc_p</th>\n",
       "      <th>degree_p</th>\n",
       "      <th>etest_p</th>\n",
       "      <th>mba_p</th>\n",
       "      <th>salary</th>\n",
       "    </tr>\n",
       "  </thead>\n",
       "  <tbody>\n",
       "    <tr>\n",
       "      <th>count</th>\n",
       "      <td>215.000000</td>\n",
       "      <td>215.000000</td>\n",
       "      <td>215.000000</td>\n",
       "      <td>215.000000</td>\n",
       "      <td>215.000000</td>\n",
       "      <td>215.000000</td>\n",
       "      <td>148.000000</td>\n",
       "    </tr>\n",
       "    <tr>\n",
       "      <th>mean</th>\n",
       "      <td>108.000000</td>\n",
       "      <td>67.303395</td>\n",
       "      <td>66.333163</td>\n",
       "      <td>66.370186</td>\n",
       "      <td>72.100558</td>\n",
       "      <td>62.278186</td>\n",
       "      <td>288655.405405</td>\n",
       "    </tr>\n",
       "    <tr>\n",
       "      <th>std</th>\n",
       "      <td>62.209324</td>\n",
       "      <td>10.827205</td>\n",
       "      <td>10.897509</td>\n",
       "      <td>7.358743</td>\n",
       "      <td>13.275956</td>\n",
       "      <td>5.833385</td>\n",
       "      <td>93457.452420</td>\n",
       "    </tr>\n",
       "    <tr>\n",
       "      <th>min</th>\n",
       "      <td>1.000000</td>\n",
       "      <td>40.890000</td>\n",
       "      <td>37.000000</td>\n",
       "      <td>50.000000</td>\n",
       "      <td>50.000000</td>\n",
       "      <td>51.210000</td>\n",
       "      <td>200000.000000</td>\n",
       "    </tr>\n",
       "    <tr>\n",
       "      <th>25%</th>\n",
       "      <td>54.500000</td>\n",
       "      <td>60.600000</td>\n",
       "      <td>60.900000</td>\n",
       "      <td>61.000000</td>\n",
       "      <td>60.000000</td>\n",
       "      <td>57.945000</td>\n",
       "      <td>240000.000000</td>\n",
       "    </tr>\n",
       "    <tr>\n",
       "      <th>50%</th>\n",
       "      <td>108.000000</td>\n",
       "      <td>67.000000</td>\n",
       "      <td>65.000000</td>\n",
       "      <td>66.000000</td>\n",
       "      <td>71.000000</td>\n",
       "      <td>62.000000</td>\n",
       "      <td>265000.000000</td>\n",
       "    </tr>\n",
       "    <tr>\n",
       "      <th>75%</th>\n",
       "      <td>161.500000</td>\n",
       "      <td>75.700000</td>\n",
       "      <td>73.000000</td>\n",
       "      <td>72.000000</td>\n",
       "      <td>83.500000</td>\n",
       "      <td>66.255000</td>\n",
       "      <td>300000.000000</td>\n",
       "    </tr>\n",
       "    <tr>\n",
       "      <th>max</th>\n",
       "      <td>215.000000</td>\n",
       "      <td>89.400000</td>\n",
       "      <td>97.700000</td>\n",
       "      <td>91.000000</td>\n",
       "      <td>98.000000</td>\n",
       "      <td>77.890000</td>\n",
       "      <td>940000.000000</td>\n",
       "    </tr>\n",
       "  </tbody>\n",
       "</table>\n",
       "</div>"
      ],
      "text/plain": [
       "            sl_no       ssc_p       hsc_p    degree_p     etest_p       mba_p  \\\n",
       "count  215.000000  215.000000  215.000000  215.000000  215.000000  215.000000   \n",
       "mean   108.000000   67.303395   66.333163   66.370186   72.100558   62.278186   \n",
       "std     62.209324   10.827205   10.897509    7.358743   13.275956    5.833385   \n",
       "min      1.000000   40.890000   37.000000   50.000000   50.000000   51.210000   \n",
       "25%     54.500000   60.600000   60.900000   61.000000   60.000000   57.945000   \n",
       "50%    108.000000   67.000000   65.000000   66.000000   71.000000   62.000000   \n",
       "75%    161.500000   75.700000   73.000000   72.000000   83.500000   66.255000   \n",
       "max    215.000000   89.400000   97.700000   91.000000   98.000000   77.890000   \n",
       "\n",
       "              salary  \n",
       "count     148.000000  \n",
       "mean   288655.405405  \n",
       "std     93457.452420  \n",
       "min    200000.000000  \n",
       "25%    240000.000000  \n",
       "50%    265000.000000  \n",
       "75%    300000.000000  \n",
       "max    940000.000000  "
      ]
     },
     "execution_count": 80,
     "metadata": {},
     "output_type": "execute_result"
    }
   ],
   "source": [
    "df.describe()"
   ]
  },
  {
   "cell_type": "code",
   "execution_count": 81,
   "metadata": {},
   "outputs": [
    {
     "name": "stdout",
     "output_type": "stream",
     "text": [
      "<class 'pandas.core.frame.DataFrame'>\n",
      "RangeIndex: 215 entries, 0 to 214\n",
      "Data columns (total 15 columns):\n",
      " #   Column          Non-Null Count  Dtype  \n",
      "---  ------          --------------  -----  \n",
      " 0   sl_no           215 non-null    int64  \n",
      " 1   gender          215 non-null    object \n",
      " 2   ssc_p           215 non-null    float64\n",
      " 3   ssc_b           215 non-null    object \n",
      " 4   hsc_p           215 non-null    float64\n",
      " 5   hsc_b           215 non-null    object \n",
      " 6   hsc_s           215 non-null    object \n",
      " 7   degree_p        215 non-null    float64\n",
      " 8   degree_t        215 non-null    object \n",
      " 9   workex          215 non-null    object \n",
      " 10  etest_p         215 non-null    float64\n",
      " 11  specialisation  215 non-null    object \n",
      " 12  mba_p           215 non-null    float64\n",
      " 13  status          215 non-null    object \n",
      " 14  salary          148 non-null    float64\n",
      "dtypes: float64(6), int64(1), object(8)\n",
      "memory usage: 25.3+ KB\n"
     ]
    }
   ],
   "source": [
    "df.info()"
   ]
  },
  {
   "cell_type": "markdown",
   "metadata": {},
   "source": [
    "#### The `salary` column contains 67 empty rows."
   ]
  },
  {
   "cell_type": "markdown",
   "metadata": {},
   "source": [
    "## Data Cleaning"
   ]
  },
  {
   "cell_type": "markdown",
   "metadata": {},
   "source": [
    "### Handling Missing Values"
   ]
  },
  {
   "cell_type": "code",
   "execution_count": 82,
   "metadata": {},
   "outputs": [
    {
     "name": "stdout",
     "output_type": "stream",
     "text": [
      "Number of people with salary information: 148\n",
      "Number of people without salary information: 67\n"
     ]
    }
   ],
   "source": [
    "# Create two DataFrames: one with salary information and one without\n",
    "with_salary = df[df['salary'].notna()]\n",
    "without_salary = df[df['salary'].isna()]\n",
    "\n",
    "# Count the number of entries in each DataFrame\n",
    "num_with_salary = len(with_salary)\n",
    "num_without_salary = len(without_salary)\n",
    "\n",
    "print(f\"Number of people with salary information: {num_with_salary}\")\n",
    "print(f\"Number of people without salary information: {num_without_salary}\")"
   ]
  },
  {
   "cell_type": "markdown",
   "metadata": {},
   "source": [
    "#### It indicates this the empty rows in `salary` column are for that students which are not placed.\n",
    "#### So, the empty rows are filled by '0'. "
   ]
  },
  {
   "cell_type": "code",
   "execution_count": 83,
   "metadata": {},
   "outputs": [],
   "source": [
    "df['salary']=df['salary'].fillna(0)"
   ]
  },
  {
   "cell_type": "code",
   "execution_count": 84,
   "metadata": {},
   "outputs": [
    {
     "name": "stdout",
     "output_type": "stream",
     "text": [
      "<class 'pandas.core.frame.DataFrame'>\n",
      "RangeIndex: 215 entries, 0 to 214\n",
      "Data columns (total 15 columns):\n",
      " #   Column          Non-Null Count  Dtype  \n",
      "---  ------          --------------  -----  \n",
      " 0   sl_no           215 non-null    int64  \n",
      " 1   gender          215 non-null    object \n",
      " 2   ssc_p           215 non-null    float64\n",
      " 3   ssc_b           215 non-null    object \n",
      " 4   hsc_p           215 non-null    float64\n",
      " 5   hsc_b           215 non-null    object \n",
      " 6   hsc_s           215 non-null    object \n",
      " 7   degree_p        215 non-null    float64\n",
      " 8   degree_t        215 non-null    object \n",
      " 9   workex          215 non-null    object \n",
      " 10  etest_p         215 non-null    float64\n",
      " 11  specialisation  215 non-null    object \n",
      " 12  mba_p           215 non-null    float64\n",
      " 13  status          215 non-null    object \n",
      " 14  salary          215 non-null    float64\n",
      "dtypes: float64(6), int64(1), object(8)\n",
      "memory usage: 25.3+ KB\n"
     ]
    }
   ],
   "source": [
    "df.info()"
   ]
  },
  {
   "cell_type": "markdown",
   "metadata": {},
   "source": [
    "#### `sl_no` column just provide the index of the rows which are not as much as useful as the other rows are. It is more preferable to drop this column."
   ]
  },
  {
   "cell_type": "code",
   "execution_count": 85,
   "metadata": {},
   "outputs": [],
   "source": [
    "df.drop(columns='sl_no', inplace=True)"
   ]
  },
  {
   "cell_type": "code",
   "execution_count": 86,
   "metadata": {},
   "outputs": [
    {
     "data": {
      "text/html": [
       "<div>\n",
       "<style scoped>\n",
       "    .dataframe tbody tr th:only-of-type {\n",
       "        vertical-align: middle;\n",
       "    }\n",
       "\n",
       "    .dataframe tbody tr th {\n",
       "        vertical-align: top;\n",
       "    }\n",
       "\n",
       "    .dataframe thead th {\n",
       "        text-align: right;\n",
       "    }\n",
       "</style>\n",
       "<table border=\"1\" class=\"dataframe\">\n",
       "  <thead>\n",
       "    <tr style=\"text-align: right;\">\n",
       "      <th></th>\n",
       "      <th>gender</th>\n",
       "      <th>ssc_p</th>\n",
       "      <th>ssc_b</th>\n",
       "      <th>hsc_p</th>\n",
       "      <th>hsc_b</th>\n",
       "      <th>hsc_s</th>\n",
       "      <th>degree_p</th>\n",
       "      <th>degree_t</th>\n",
       "      <th>workex</th>\n",
       "      <th>etest_p</th>\n",
       "      <th>specialisation</th>\n",
       "      <th>mba_p</th>\n",
       "      <th>status</th>\n",
       "      <th>salary</th>\n",
       "    </tr>\n",
       "  </thead>\n",
       "  <tbody>\n",
       "    <tr>\n",
       "      <th>0</th>\n",
       "      <td>M</td>\n",
       "      <td>67.00</td>\n",
       "      <td>Others</td>\n",
       "      <td>91.00</td>\n",
       "      <td>Others</td>\n",
       "      <td>Commerce</td>\n",
       "      <td>58.00</td>\n",
       "      <td>Sci&amp;Tech</td>\n",
       "      <td>No</td>\n",
       "      <td>55.0</td>\n",
       "      <td>Mkt&amp;HR</td>\n",
       "      <td>58.80</td>\n",
       "      <td>Placed</td>\n",
       "      <td>270000.0</td>\n",
       "    </tr>\n",
       "    <tr>\n",
       "      <th>1</th>\n",
       "      <td>M</td>\n",
       "      <td>79.33</td>\n",
       "      <td>Central</td>\n",
       "      <td>78.33</td>\n",
       "      <td>Others</td>\n",
       "      <td>Science</td>\n",
       "      <td>77.48</td>\n",
       "      <td>Sci&amp;Tech</td>\n",
       "      <td>Yes</td>\n",
       "      <td>86.5</td>\n",
       "      <td>Mkt&amp;Fin</td>\n",
       "      <td>66.28</td>\n",
       "      <td>Placed</td>\n",
       "      <td>200000.0</td>\n",
       "    </tr>\n",
       "    <tr>\n",
       "      <th>2</th>\n",
       "      <td>M</td>\n",
       "      <td>65.00</td>\n",
       "      <td>Central</td>\n",
       "      <td>68.00</td>\n",
       "      <td>Central</td>\n",
       "      <td>Arts</td>\n",
       "      <td>64.00</td>\n",
       "      <td>Comm&amp;Mgmt</td>\n",
       "      <td>No</td>\n",
       "      <td>75.0</td>\n",
       "      <td>Mkt&amp;Fin</td>\n",
       "      <td>57.80</td>\n",
       "      <td>Placed</td>\n",
       "      <td>250000.0</td>\n",
       "    </tr>\n",
       "    <tr>\n",
       "      <th>3</th>\n",
       "      <td>M</td>\n",
       "      <td>56.00</td>\n",
       "      <td>Central</td>\n",
       "      <td>52.00</td>\n",
       "      <td>Central</td>\n",
       "      <td>Science</td>\n",
       "      <td>52.00</td>\n",
       "      <td>Sci&amp;Tech</td>\n",
       "      <td>No</td>\n",
       "      <td>66.0</td>\n",
       "      <td>Mkt&amp;HR</td>\n",
       "      <td>59.43</td>\n",
       "      <td>Not Placed</td>\n",
       "      <td>0.0</td>\n",
       "    </tr>\n",
       "    <tr>\n",
       "      <th>4</th>\n",
       "      <td>M</td>\n",
       "      <td>85.80</td>\n",
       "      <td>Central</td>\n",
       "      <td>73.60</td>\n",
       "      <td>Central</td>\n",
       "      <td>Commerce</td>\n",
       "      <td>73.30</td>\n",
       "      <td>Comm&amp;Mgmt</td>\n",
       "      <td>No</td>\n",
       "      <td>96.8</td>\n",
       "      <td>Mkt&amp;Fin</td>\n",
       "      <td>55.50</td>\n",
       "      <td>Placed</td>\n",
       "      <td>425000.0</td>\n",
       "    </tr>\n",
       "  </tbody>\n",
       "</table>\n",
       "</div>"
      ],
      "text/plain": [
       "  gender  ssc_p    ssc_b  hsc_p    hsc_b     hsc_s  degree_p   degree_t  \\\n",
       "0      M  67.00   Others  91.00   Others  Commerce     58.00   Sci&Tech   \n",
       "1      M  79.33  Central  78.33   Others   Science     77.48   Sci&Tech   \n",
       "2      M  65.00  Central  68.00  Central      Arts     64.00  Comm&Mgmt   \n",
       "3      M  56.00  Central  52.00  Central   Science     52.00   Sci&Tech   \n",
       "4      M  85.80  Central  73.60  Central  Commerce     73.30  Comm&Mgmt   \n",
       "\n",
       "  workex  etest_p specialisation  mba_p      status    salary  \n",
       "0     No     55.0         Mkt&HR  58.80      Placed  270000.0  \n",
       "1    Yes     86.5        Mkt&Fin  66.28      Placed  200000.0  \n",
       "2     No     75.0        Mkt&Fin  57.80      Placed  250000.0  \n",
       "3     No     66.0         Mkt&HR  59.43  Not Placed       0.0  \n",
       "4     No     96.8        Mkt&Fin  55.50      Placed  425000.0  "
      ]
     },
     "execution_count": 86,
     "metadata": {},
     "output_type": "execute_result"
    }
   ],
   "source": [
    "df.head()"
   ]
  },
  {
   "cell_type": "code",
   "execution_count": 87,
   "metadata": {},
   "outputs": [
    {
     "data": {
      "text/plain": [
       "{'gender': {'Unique Counts': 2,\n",
       "  'Unique Values': array(['M', 'F'], dtype=object)},\n",
       " 'ssc_p': {'Unique Counts': 103,\n",
       "  'Unique Values': array([67.  , 79.33, 65.  , 56.  , 85.8 , 55.  , 46.  , 82.  , 73.  ,\n",
       "         58.  , 69.6 , 47.  , 77.  , 62.  , 63.  , 60.  , 79.  , 69.8 ,\n",
       "         77.4 , 76.5 , 52.58, 71.  , 76.76, 64.  , 61.  , 87.  , 69.  ,\n",
       "         51.  , 81.  , 78.  , 74.  , 49.  , 76.  , 70.89, 50.  , 75.2 ,\n",
       "         54.4 , 40.89, 80.  , 60.4 , 68.  , 52.6 , 84.2 , 86.5 , 54.  ,\n",
       "         83.  , 80.92, 69.7 , 75.  , 84.86, 64.6 , 56.6 , 59.  , 66.5 ,\n",
       "         84.  , 81.7 , 70.  , 83.84, 59.6 , 66.  , 85.  , 52.  , 60.23,\n",
       "         70.5 , 45.  , 61.08, 69.5 , 73.96, 68.2 , 60.8 , 72.  , 80.4 ,\n",
       "         76.7 , 74.9 , 77.44, 77.67, 89.4 , 44.  , 75.4 , 53.  , 51.57,\n",
       "         55.6 , 74.2 , 67.16, 63.3 , 67.9 , 48.  , 59.96, 63.4 , 73.24,\n",
       "         77.8 , 56.28, 88.  , 78.5 , 61.8 , 65.2 , 83.96, 54.2 , 55.68,\n",
       "         41.  , 83.33, 43.  , 80.6 ])},\n",
       " 'ssc_b': {'Unique Counts': 2,\n",
       "  'Unique Values': array(['Others', 'Central'], dtype=object)},\n",
       " 'hsc_p': {'Unique Counts': 97,\n",
       "  'Unique Values': array([91.  , 78.33, 68.  , 52.  , 73.6 , 49.8 , 49.2 , 64.  , 79.  ,\n",
       "         70.  , 61.  , 68.4 , 55.  , 87.  , 47.  , 75.  , 66.2 , 67.  ,\n",
       "         66.  , 65.  , 76.  , 60.8 , 60.  , 97.7 , 54.6 , 76.5 , 73.5 ,\n",
       "         53.  , 81.  , 51.  , 78.  , 44.  , 58.  , 77.  , 63.16, 39.  ,\n",
       "         73.  , 71.98, 62.  , 37.  , 73.2 , 61.12, 45.83, 66.6 , 71.4 ,\n",
       "         65.58, 73.4 , 64.2 , 74.  , 78.5 , 70.29, 83.83, 64.8 , 70.4 ,\n",
       "         80.  , 90.9 , 63.  , 89.83, 90.  , 57.  , 69.  , 62.5 , 82.  ,\n",
       "         72.  , 50.  , 54.  , 72.8 , 40.  , 66.8 , 59.  , 71.  , 89.7 ,\n",
       "         92.  , 56.  , 64.89, 65.66, 86.  , 58.66, 60.5 , 74.66, 69.4 ,\n",
       "         49.  , 87.6 , 72.5 , 42.16, 67.2 , 50.83, 97.  , 71.5 , 60.33,\n",
       "         62.83, 65.5 , 77.6 , 70.2 , 61.4 , 61.33, 42.  ])},\n",
       " 'hsc_b': {'Unique Counts': 2,\n",
       "  'Unique Values': array(['Others', 'Central'], dtype=object)},\n",
       " 'hsc_s': {'Unique Counts': 3,\n",
       "  'Unique Values': array(['Commerce', 'Science', 'Arts'], dtype=object)},\n",
       " 'degree_p': {'Unique Counts': 89,\n",
       "  'Unique Values': array([58.  , 77.48, 64.  , 52.  , 73.3 , 67.25, 79.  , 66.  , 72.  ,\n",
       "         61.  , 60.  , 78.3 , 65.  , 59.  , 50.  , 69.  , 65.6 , 70.  ,\n",
       "         85.  , 72.23, 64.74, 78.86, 50.2 , 67.5 , 73.  , 66.4 , 81.  ,\n",
       "         57.  , 80.  , 68.  , 68.4 , 56.2 , 53.  , 61.4 , 74.  , 72.11,\n",
       "         66.89, 67.4 , 75.  , 67.  , 72.7 , 62.  , 71.  , 78.  , 71.72,\n",
       "         70.2 , 77.5 , 71.93, 64.5 , 77.2 , 82.  , 50.8 , 54.  , 76.  ,\n",
       "         63.  , 83.  , 66.6 , 64.6 , 69.6 , 69.3 , 64.33, 75.5 , 77.72,\n",
       "         77.  , 69.5 , 73.43, 70.67, 71.25, 56.  , 55.  , 84.  , 59.9 ,\n",
       "         60.9 , 57.5 , 77.25, 63.35, 61.26, 64.27, 64.2 , 62.8 , 64.21,\n",
       "         59.79, 54.38, 69.2 , 64.8 , 56.3 , 91.  , 56.87, 77.6 ])},\n",
       " 'degree_t': {'Unique Counts': 3,\n",
       "  'Unique Values': array(['Sci&Tech', 'Comm&Mgmt', 'Others'], dtype=object)},\n",
       " 'workex': {'Unique Counts': 2,\n",
       "  'Unique Values': array(['No', 'Yes'], dtype=object)},\n",
       " 'etest_p': {'Unique Counts': 100,\n",
       "  'Unique Values': array([55.  , 86.5 , 75.  , 66.  , 96.8 , 74.28, 67.  , 91.34, 54.  ,\n",
       "         62.  , 60.  , 68.  , 76.  , 72.  , 50.48, 50.  , 95.  , 55.53,\n",
       "         92.  , 97.4 , 94.  , 73.35, 77.  , 52.  , 64.  , 50.89, 88.  ,\n",
       "         68.44, 71.  , 58.  , 53.7 , 93.  , 65.  , 63.  , 89.  , 78.  ,\n",
       "         71.2 , 87.  , 80.  , 74.  , 57.6 , 61.6 , 59.  , 68.5 , 61.  ,\n",
       "         89.69, 68.92, 68.71, 79.  , 70.  , 95.5 , 86.  , 84.27, 69.  ,\n",
       "         86.04, 82.  , 84.  , 78.74, 53.88, 95.46, 93.91, 56.39, 57.5 ,\n",
       "         85.  , 57.2 , 72.15, 96.  , 97.  , 82.66, 73.  , 55.67, 80.4 ,\n",
       "         55.5 , 81.2 , 90.  , 74.4 , 55.6 , 56.  , 83.  , 57.  , 64.25,\n",
       "         98.  , 56.15, 93.4 , 57.63, 75.2 , 53.04, 58.1 , 54.48, 58.06,\n",
       "         63.79, 87.5 , 75.5 , 95.65, 59.32, 87.55, 61.28, 88.56, 92.66,\n",
       "         91.  ])},\n",
       " 'specialisation': {'Unique Counts': 2,\n",
       "  'Unique Values': array(['Mkt&HR', 'Mkt&Fin'], dtype=object)},\n",
       " 'mba_p': {'Unique Counts': 205,\n",
       "  'Unique Values': array([58.8 , 66.28, 57.8 , 59.43, 55.5 , 51.58, 53.29, 62.14, 61.29,\n",
       "         52.21, 60.85, 63.7 , 65.04, 68.63, 54.96, 64.66, 62.54, 67.28,\n",
       "         64.08, 77.89, 56.7 , 69.06, 68.81, 63.62, 74.01, 65.33, 57.55,\n",
       "         57.69, 64.15, 51.29, 58.32, 62.21, 72.78, 62.77, 62.74, 51.45,\n",
       "         55.47, 56.86, 62.56, 66.72, 69.76, 51.21, 62.9 , 69.7 , 66.53,\n",
       "         71.63, 54.55, 62.46, 56.11, 62.98, 62.65, 65.49, 71.04, 65.56,\n",
       "         52.71, 66.88, 63.59, 57.99, 56.66, 57.24, 62.48, 59.69, 59.5 ,\n",
       "         58.78, 57.1 , 58.46, 60.99, 59.24, 68.07, 65.45, 66.94, 68.53,\n",
       "         59.75, 67.2 , 67.  , 64.27, 57.65, 59.42, 67.99, 62.35, 70.2 ,\n",
       "         60.44, 66.69, 62.  , 76.18, 57.03, 59.08, 64.36, 62.36, 68.03,\n",
       "         62.79, 59.47, 55.41, 54.97, 62.16, 64.44, 69.03, 57.31, 64.95,\n",
       "         61.31, 65.83, 58.23, 55.3 , 65.69, 73.52, 58.31, 56.09, 54.8 ,\n",
       "         60.64, 53.94, 63.08, 55.01, 60.5 , 70.85, 67.05, 70.48, 64.34,\n",
       "         58.81, 71.49, 71.  , 61.26, 73.33, 68.2 , 58.4 , 76.26, 68.55,\n",
       "         60.78, 53.49, 60.98, 67.13, 65.63, 61.58, 60.41, 71.77, 54.43,\n",
       "         56.94, 61.9 , 60.39, 58.52, 63.23, 55.14, 62.28, 58.54, 61.3 ,\n",
       "         58.87, 65.25, 53.2 , 65.99, 52.72, 55.03, 61.87, 60.59, 72.29,\n",
       "         62.72, 66.06, 66.46, 65.52, 74.56, 52.38, 75.71, 58.79, 65.48,\n",
       "         69.28, 66.04, 52.64, 59.32, 66.23, 60.69, 57.9 , 70.81, 72.14,\n",
       "         56.6 , 60.02, 59.81, 61.82, 57.29, 71.43, 62.93, 64.86, 56.13,\n",
       "         62.5 , 61.01, 57.34, 56.63, 64.74, 58.95, 54.48, 69.71, 71.96,\n",
       "         55.8 , 52.81, 58.44, 60.11, 58.3 , 67.69, 56.81, 53.39, 71.55,\n",
       "         62.92, 56.49, 74.49, 53.62, 69.72, 60.23, 60.22])},\n",
       " 'status': {'Unique Counts': 2,\n",
       "  'Unique Values': array(['Placed', 'Not Placed'], dtype=object)},\n",
       " 'salary': {'Unique Counts': 46,\n",
       "  'Unique Values': array([270000., 200000., 250000.,      0., 425000., 252000., 231000.,\n",
       "         260000., 218000., 300000., 236000., 265000., 393000., 360000.,\n",
       "         240000., 350000., 278000., 320000., 411000., 287000., 204000.,\n",
       "         450000., 216000., 220000., 268000., 275000., 336000., 230000.,\n",
       "         500000., 400000., 210000., 420000., 380000., 280000., 276000.,\n",
       "         940000., 225000., 233000., 690000., 340000., 255000., 285000.,\n",
       "         290000., 650000., 264000., 295000.])}}"
      ]
     },
     "execution_count": 87,
     "metadata": {},
     "output_type": "execute_result"
    }
   ],
   "source": [
    "def unique_values_counts(df): #defining a function\n",
    "    unique_data={} #created a empty dictionary\n",
    "    for column in df.columns:\n",
    "        unique_values=df[column].unique()\n",
    "        unique_count=df[column].nunique()\n",
    "        unique_data[column]={'Unique Counts': unique_count,'Unique Values': unique_values}\n",
    "    return unique_data\n",
    "\n",
    "unique_data=unique_values_counts(df)\n",
    "unique_data"
   ]
  },
  {
   "cell_type": "code",
   "execution_count": 88,
   "metadata": {},
   "outputs": [
    {
     "name": "stderr",
     "output_type": "stream",
     "text": [
      "C:\\Users\\User\\AppData\\Local\\Temp\\ipykernel_25920\\3478535814.py:2: MatplotlibDeprecationWarning: The seaborn styles shipped by Matplotlib are deprecated since 3.6, as they no longer correspond to the styles shipped by seaborn. However, they will remain available as 'seaborn-v0_8-<style>'. Alternatively, directly use the seaborn API instead.\n",
      "  plt.style.use('seaborn-white')\n"
     ]
    },
    {
     "data": {
      "text/plain": [
       "Text(0.5, 1.0, 'Employability percentage')"
      ]
     },
     "execution_count": 88,
     "metadata": {},
     "output_type": "execute_result"
    },
    {
     "data": {
      "image/png": "[encoded data removed]",
      "text/plain": [
       "<Figure size 1500x1000 with 4 Axes>"
      ]
     },
     "metadata": {},
     "output_type": "display_data"
    }
   ],
   "source": [
    "plt.figure(figsize = (15, 10))\n",
    "plt.style.use('seaborn-white')\n",
    "ax=plt.subplot(221)\n",
    "plt.boxplot(df['ssc_p'])\n",
    "ax.set_title('Secondary school percentage')\n",
    "ax=plt.subplot(222)\n",
    "plt.boxplot(df['hsc_p'])\n",
    "ax.set_title('Higher Secondary school percentage')\n",
    "ax=plt.subplot(223)\n",
    "plt.boxplot(df['degree_p'])\n",
    "ax.set_title('UG Degree percentage')\n",
    "ax=plt.subplot(224)\n",
    "plt.boxplot(df['etest_p'])\n",
    "ax.set_title('Employability percentage')"
   ]
  },
  {
   "cell_type": "code",
   "execution_count": 89,
   "metadata": {},
   "outputs": [],
   "source": [
    "Q1 = df['hsc_p'].quantile(0.25)\n",
    "Q3 = df['hsc_p'].quantile(0.75)\n",
    "IQR = Q3 - Q1    #IQR is interquartile range. \n",
    "\n",
    "filter = (df['hsc_p'] >= Q1 - 1.5 * IQR) & (df['hsc_p'] <= Q3 + 1.5 *IQR)\n",
    "df=df.loc[filter]"
   ]
  },
  {
   "cell_type": "markdown",
   "metadata": {},
   "source": [
    "## Exploartory Data Analysis"
   ]
  },
  {
   "cell_type": "code",
   "execution_count": 90,
   "metadata": {},
   "outputs": [
    {
     "data": {
      "image/png": "[encoded data removed]",
      "text/plain": [
       "<Figure size 640x480 with 1 Axes>"
      ]
     },
     "metadata": {},
     "output_type": "display_data"
    }
   ],
   "source": [
    "# Count the occurrences of each gender\n",
    "gender_counts = df['gender'].value_counts()\n",
    "\n",
    "# Plot the bar chart\n",
    "gender_counts.plot(kind='bar', color=['blue', 'orange'])\n",
    "\n",
    "# Customize the plot\n",
    "plt.title('Gender Distribution')\n",
    "plt.xlabel('Gender')\n",
    "plt.ylabel('Count')\n",
    "plt.xticks(rotation=0)  # Rotate the labels if needed\n",
    "plt.show()"
   ]
  },
  {
   "cell_type": "code",
   "execution_count": 91,
   "metadata": {},
   "outputs": [
    {
     "data": {
      "image/png": "[encoded data removed]",
      "text/plain": [
       "<Figure size 640x480 with 1 Axes>"
      ]
     },
     "metadata": {},
     "output_type": "display_data"
    }
   ],
   "source": [
    "gender_status_counts = df.groupby(['gender', 'status']).size().unstack()\n",
    "gender_status_counts.plot(kind='bar', stacked=False, color=['blue', 'orange'])\n",
    "plt.title('Gender vs. Placement Status')\n",
    "plt.xlabel('Gender')\n",
    "plt.ylabel('Count')\n",
    "plt.xticks(rotation=0)\n",
    "plt.legend(title='Status')\n",
    "plt.show()"
   ]
  },
  {
   "cell_type": "markdown",
   "metadata": {},
   "source": [
    "#### Twice of males as compared to females are placed by the campus placement."
   ]
  },
  {
   "cell_type": "code",
   "execution_count": 92,
   "metadata": {},
   "outputs": [
    {
     "name": "stdout",
     "output_type": "stream",
     "text": [
      "gender\n",
      "F    400000.0\n",
      "M    940000.0\n",
      "Name: salary, dtype: float64\n"
     ]
    }
   ],
   "source": [
    "highest_package_by_gender = df.groupby('gender')['salary'].max()\n",
    "print(highest_package_by_gender)"
   ]
  },
  {
   "cell_type": "markdown",
   "metadata": {},
   "source": [
    "#### Higher packages has been given to males as compared to females."
   ]
  },
  {
   "cell_type": "code",
   "execution_count": 93,
   "metadata": {},
   "outputs": [
    {
     "data": {
      "image/png": "[encoded data removed]",
      "text/plain": [
       "<Figure size 1000x600 with 1 Axes>"
      ]
     },
     "metadata": {},
     "output_type": "display_data"
    }
   ],
   "source": [
    "# Group by degree_t and status to get counts\n",
    "grouped = df.groupby(['degree_t', 'status']).size().unstack()\n",
    "\n",
    "# Plotting\n",
    "grouped.plot(kind='bar', stacked=True, figsize=(10, 6))\n",
    "\n",
    "# Customize plot\n",
    "plt.title('Relationship between Degree Type and Placement Status')\n",
    "plt.xlabel('Degree Type')\n",
    "plt.ylabel('Count')\n",
    "plt.xticks(rotation=0)\n",
    "plt.legend(title='Status')\n",
    "\n",
    "plt.show()"
   ]
  },
  {
   "cell_type": "code",
   "execution_count": 94,
   "metadata": {},
   "outputs": [
    {
     "name": "stdout",
     "output_type": "stream",
     "text": [
      "status     Not Placed  Placed  Total\n",
      "degree_t                            \n",
      "Comm&Mgmt          41     100    141\n",
      "Others              4       5      9\n",
      "Sci&Tech           17      40     57\n",
      "Total              62     145    207\n"
     ]
    }
   ],
   "source": [
    "# Group by degree_t and status to get counts\n",
    "grouped = df.groupby(['degree_t', 'status']).size().unstack().fillna(0).astype(int)\n",
    "\n",
    "# Add totals row and column\n",
    "grouped.loc['Total'] = grouped.sum(axis=0)\n",
    "grouped['Total'] = grouped.sum(axis=1)\n",
    "\n",
    "# Display the table\n",
    "print(grouped)"
   ]
  },
  {
   "cell_type": "markdown",
   "metadata": {},
   "source": [
    "#### Overall, the placement success varies across different degree types, with `Comm&Mgmt` and `Sci&Tech` showing stronger placement outcomes compared to `Others`.\n",
    "#### These insights can help in understanding the trends in placement rates based on the type of degree, which may be useful for academic advisors, career counselors, and students making educational and career decisions."
   ]
  },
  {
   "cell_type": "code",
   "execution_count": 95,
   "metadata": {},
   "outputs": [
    {
     "data": {
      "image/png": "[encoded data removed]",
      "text/plain": [
       "<Figure size 1200x800 with 1 Axes>"
      ]
     },
     "metadata": {},
     "output_type": "display_data"
    }
   ],
   "source": [
    "# Filter only 'Placed' status\n",
    "df_placed = df[df['status'] == 'Placed']\n",
    "\n",
    "# Plotting\n",
    "plt.figure(figsize=(12, 8))\n",
    "\n",
    "# Box plot with swarm plot overlay for 'Placed' status\n",
    "sns.boxplot(x='status', y='salary', hue='workex', data=df_placed, palette='Set2', linewidth=2)\n",
    "sns.swarmplot(x='status', y='salary', hue='workex', data=df_placed, dodge=True, palette='dark:grey', alpha=0.7)\n",
    "\n",
    "# Customize plot\n",
    "plt.title('Work Experience, Salary, and Placement Status (Placed)')\n",
    "plt.xlabel('Placement Status')\n",
    "plt.ylabel('Salary')\n",
    "plt.legend(title='Work Experience', loc='upper right')\n",
    "\n",
    "plt.grid(True)\n",
    "plt.tight_layout()\n",
    "plt.show()"
   ]
  },
  {
   "cell_type": "markdown",
   "metadata": {},
   "source": [
    "#### A student which has work experience has almost equal salary which doesn't has any no experience."
   ]
  },
  {
   "cell_type": "code",
   "execution_count": 96,
   "metadata": {},
   "outputs": [
    {
     "data": {
      "image/png": "[encoded data removed]",
      "text/plain": [
       "<Figure size 800x600 with 2 Axes>"
      ]
     },
     "metadata": {},
     "output_type": "display_data"
    }
   ],
   "source": [
    "# Exclude non-numeric columns for correlation calculation\n",
    "numeric_cols = df.select_dtypes(include=np.number).columns\n",
    "corr_df = df[numeric_cols].corr()\n",
    "\n",
    "# Plotting correlation heatmap\n",
    "plt.figure(figsize=(8, 6))\n",
    "sns.heatmap(corr_df, annot=True, fmt='.2f', cmap='Greys')\n",
    "plt.title('Correlation Heatmap')\n",
    "plt.show()"
   ]
  },
  {
   "cell_type": "markdown",
   "metadata": {},
   "source": [
    "#### No multicollinearity could be seen."
   ]
  },
  {
   "cell_type": "markdown",
   "metadata": {},
   "source": [
    "## Data Engineering"
   ]
  },
  {
   "cell_type": "code",
   "execution_count": 97,
   "metadata": {},
   "outputs": [],
   "source": [
    "from sklearn.preprocessing import LabelEncoder\n",
    "# Columns to encode\n",
    "columns_to_encode = ['gender','workex', 'specialisation', 'status']\n",
    "\n",
    "# Initialize the LabelEncoder\n",
    "label_encoder = LabelEncoder()\n",
    "\n",
    "# Apply LabelEncoder to each column\n",
    "for col in columns_to_encode:\n",
    "    df[col] = label_encoder.fit_transform(df[col])"
   ]
  },
  {
   "cell_type": "code",
   "execution_count": 98,
   "metadata": {},
   "outputs": [
    {
     "data": {
      "text/html": [
       "<div>\n",
       "<style scoped>\n",
       "    .dataframe tbody tr th:only-of-type {\n",
       "        vertical-align: middle;\n",
       "    }\n",
       "\n",
       "    .dataframe tbody tr th {\n",
       "        vertical-align: top;\n",
       "    }\n",
       "\n",
       "    .dataframe thead th {\n",
       "        text-align: right;\n",
       "    }\n",
       "</style>\n",
       "<table border=\"1\" class=\"dataframe\">\n",
       "  <thead>\n",
       "    <tr style=\"text-align: right;\">\n",
       "      <th></th>\n",
       "      <th>gender</th>\n",
       "      <th>ssc_p</th>\n",
       "      <th>ssc_b</th>\n",
       "      <th>hsc_p</th>\n",
       "      <th>hsc_b</th>\n",
       "      <th>degree_p</th>\n",
       "      <th>workex</th>\n",
       "      <th>etest_p</th>\n",
       "      <th>specialisation</th>\n",
       "      <th>mba_p</th>\n",
       "      <th>status</th>\n",
       "      <th>dummy_Arts</th>\n",
       "      <th>dummy_Commerce</th>\n",
       "      <th>dummy_Science</th>\n",
       "      <th>dummy_Comm&amp;Mgmt</th>\n",
       "      <th>dummy_Others</th>\n",
       "      <th>dummy_Sci&amp;Tech</th>\n",
       "    </tr>\n",
       "  </thead>\n",
       "  <tbody>\n",
       "    <tr>\n",
       "      <th>0</th>\n",
       "      <td>1</td>\n",
       "      <td>67.00</td>\n",
       "      <td>Others</td>\n",
       "      <td>91.00</td>\n",
       "      <td>Others</td>\n",
       "      <td>58.00</td>\n",
       "      <td>0</td>\n",
       "      <td>55.0</td>\n",
       "      <td>1</td>\n",
       "      <td>58.80</td>\n",
       "      <td>1</td>\n",
       "      <td>False</td>\n",
       "      <td>True</td>\n",
       "      <td>False</td>\n",
       "      <td>False</td>\n",
       "      <td>False</td>\n",
       "      <td>True</td>\n",
       "    </tr>\n",
       "    <tr>\n",
       "      <th>1</th>\n",
       "      <td>1</td>\n",
       "      <td>79.33</td>\n",
       "      <td>Central</td>\n",
       "      <td>78.33</td>\n",
       "      <td>Others</td>\n",
       "      <td>77.48</td>\n",
       "      <td>1</td>\n",
       "      <td>86.5</td>\n",
       "      <td>0</td>\n",
       "      <td>66.28</td>\n",
       "      <td>1</td>\n",
       "      <td>False</td>\n",
       "      <td>False</td>\n",
       "      <td>True</td>\n",
       "      <td>False</td>\n",
       "      <td>False</td>\n",
       "      <td>True</td>\n",
       "    </tr>\n",
       "    <tr>\n",
       "      <th>2</th>\n",
       "      <td>1</td>\n",
       "      <td>65.00</td>\n",
       "      <td>Central</td>\n",
       "      <td>68.00</td>\n",
       "      <td>Central</td>\n",
       "      <td>64.00</td>\n",
       "      <td>0</td>\n",
       "      <td>75.0</td>\n",
       "      <td>0</td>\n",
       "      <td>57.80</td>\n",
       "      <td>1</td>\n",
       "      <td>True</td>\n",
       "      <td>False</td>\n",
       "      <td>False</td>\n",
       "      <td>True</td>\n",
       "      <td>False</td>\n",
       "      <td>False</td>\n",
       "    </tr>\n",
       "    <tr>\n",
       "      <th>3</th>\n",
       "      <td>1</td>\n",
       "      <td>56.00</td>\n",
       "      <td>Central</td>\n",
       "      <td>52.00</td>\n",
       "      <td>Central</td>\n",
       "      <td>52.00</td>\n",
       "      <td>0</td>\n",
       "      <td>66.0</td>\n",
       "      <td>1</td>\n",
       "      <td>59.43</td>\n",
       "      <td>0</td>\n",
       "      <td>False</td>\n",
       "      <td>False</td>\n",
       "      <td>True</td>\n",
       "      <td>False</td>\n",
       "      <td>False</td>\n",
       "      <td>True</td>\n",
       "    </tr>\n",
       "    <tr>\n",
       "      <th>4</th>\n",
       "      <td>1</td>\n",
       "      <td>85.80</td>\n",
       "      <td>Central</td>\n",
       "      <td>73.60</td>\n",
       "      <td>Central</td>\n",
       "      <td>73.30</td>\n",
       "      <td>0</td>\n",
       "      <td>96.8</td>\n",
       "      <td>0</td>\n",
       "      <td>55.50</td>\n",
       "      <td>1</td>\n",
       "      <td>False</td>\n",
       "      <td>True</td>\n",
       "      <td>False</td>\n",
       "      <td>True</td>\n",
       "      <td>False</td>\n",
       "      <td>False</td>\n",
       "    </tr>\n",
       "  </tbody>\n",
       "</table>\n",
       "</div>"
      ],
      "text/plain": [
       "   gender  ssc_p    ssc_b  hsc_p    hsc_b  degree_p  workex  etest_p  \\\n",
       "0       1  67.00   Others  91.00   Others     58.00       0     55.0   \n",
       "1       1  79.33  Central  78.33   Others     77.48       1     86.5   \n",
       "2       1  65.00  Central  68.00  Central     64.00       0     75.0   \n",
       "3       1  56.00  Central  52.00  Central     52.00       0     66.0   \n",
       "4       1  85.80  Central  73.60  Central     73.30       0     96.8   \n",
       "\n",
       "   specialisation  mba_p  status  dummy_Arts  dummy_Commerce  dummy_Science  \\\n",
       "0               1  58.80       1       False            True          False   \n",
       "1               0  66.28       1       False           False           True   \n",
       "2               0  57.80       1        True           False          False   \n",
       "3               1  59.43       0       False           False           True   \n",
       "4               0  55.50       1       False            True          False   \n",
       "\n",
       "   dummy_Comm&Mgmt  dummy_Others  dummy_Sci&Tech  \n",
       "0            False         False            True  \n",
       "1            False         False            True  \n",
       "2             True         False           False  \n",
       "3            False         False            True  \n",
       "4             True         False           False  "
      ]
     },
     "execution_count": 98,
     "metadata": {},
     "output_type": "execute_result"
    }
   ],
   "source": [
    "dummy_hsc_s=pd.get_dummies(df['hsc_s'], prefix='dummy')\n",
    "dummy_degree_t=pd.get_dummies(df['degree_t'], prefix='dummy')\n",
    "df = pd.concat([df,dummy_hsc_s,dummy_degree_t],axis=1)\n",
    "df.drop(['hsc_s','degree_t','salary'],axis=1, inplace=True)\n",
    "df.head()"
   ]
  },
  {
   "cell_type": "code",
   "execution_count": 99,
   "metadata": {},
   "outputs": [
    {
     "data": {
      "text/html": [
       "<div>\n",
       "<style scoped>\n",
       "    .dataframe tbody tr th:only-of-type {\n",
       "        vertical-align: middle;\n",
       "    }\n",
       "\n",
       "    .dataframe tbody tr th {\n",
       "        vertical-align: top;\n",
       "    }\n",
       "\n",
       "    .dataframe thead th {\n",
       "        text-align: right;\n",
       "    }\n",
       "</style>\n",
       "<table border=\"1\" class=\"dataframe\">\n",
       "  <thead>\n",
       "    <tr style=\"text-align: right;\">\n",
       "      <th></th>\n",
       "      <th>gender</th>\n",
       "      <th>ssc_p</th>\n",
       "      <th>ssc_b</th>\n",
       "      <th>hsc_p</th>\n",
       "      <th>hsc_b</th>\n",
       "      <th>degree_p</th>\n",
       "      <th>workex</th>\n",
       "      <th>etest_p</th>\n",
       "      <th>specialisation</th>\n",
       "      <th>mba_p</th>\n",
       "      <th>status</th>\n",
       "      <th>dummy_Arts</th>\n",
       "      <th>dummy_Commerce</th>\n",
       "      <th>dummy_Science</th>\n",
       "      <th>dummy_Comm&amp;Mgmt</th>\n",
       "      <th>dummy_Others</th>\n",
       "      <th>dummy_Sci&amp;Tech</th>\n",
       "    </tr>\n",
       "  </thead>\n",
       "  <tbody>\n",
       "    <tr>\n",
       "      <th>0</th>\n",
       "      <td>1</td>\n",
       "      <td>67.00</td>\n",
       "      <td>Others</td>\n",
       "      <td>91.00</td>\n",
       "      <td>Others</td>\n",
       "      <td>58.00</td>\n",
       "      <td>0</td>\n",
       "      <td>55.0</td>\n",
       "      <td>1</td>\n",
       "      <td>58.80</td>\n",
       "      <td>1</td>\n",
       "      <td>False</td>\n",
       "      <td>True</td>\n",
       "      <td>False</td>\n",
       "      <td>False</td>\n",
       "      <td>False</td>\n",
       "      <td>True</td>\n",
       "    </tr>\n",
       "    <tr>\n",
       "      <th>1</th>\n",
       "      <td>1</td>\n",
       "      <td>79.33</td>\n",
       "      <td>Central</td>\n",
       "      <td>78.33</td>\n",
       "      <td>Others</td>\n",
       "      <td>77.48</td>\n",
       "      <td>1</td>\n",
       "      <td>86.5</td>\n",
       "      <td>0</td>\n",
       "      <td>66.28</td>\n",
       "      <td>1</td>\n",
       "      <td>False</td>\n",
       "      <td>False</td>\n",
       "      <td>True</td>\n",
       "      <td>False</td>\n",
       "      <td>False</td>\n",
       "      <td>True</td>\n",
       "    </tr>\n",
       "    <tr>\n",
       "      <th>2</th>\n",
       "      <td>1</td>\n",
       "      <td>65.00</td>\n",
       "      <td>Central</td>\n",
       "      <td>68.00</td>\n",
       "      <td>Central</td>\n",
       "      <td>64.00</td>\n",
       "      <td>0</td>\n",
       "      <td>75.0</td>\n",
       "      <td>0</td>\n",
       "      <td>57.80</td>\n",
       "      <td>1</td>\n",
       "      <td>True</td>\n",
       "      <td>False</td>\n",
       "      <td>False</td>\n",
       "      <td>True</td>\n",
       "      <td>False</td>\n",
       "      <td>False</td>\n",
       "    </tr>\n",
       "    <tr>\n",
       "      <th>3</th>\n",
       "      <td>1</td>\n",
       "      <td>56.00</td>\n",
       "      <td>Central</td>\n",
       "      <td>52.00</td>\n",
       "      <td>Central</td>\n",
       "      <td>52.00</td>\n",
       "      <td>0</td>\n",
       "      <td>66.0</td>\n",
       "      <td>1</td>\n",
       "      <td>59.43</td>\n",
       "      <td>0</td>\n",
       "      <td>False</td>\n",
       "      <td>False</td>\n",
       "      <td>True</td>\n",
       "      <td>False</td>\n",
       "      <td>False</td>\n",
       "      <td>True</td>\n",
       "    </tr>\n",
       "    <tr>\n",
       "      <th>4</th>\n",
       "      <td>1</td>\n",
       "      <td>85.80</td>\n",
       "      <td>Central</td>\n",
       "      <td>73.60</td>\n",
       "      <td>Central</td>\n",
       "      <td>73.30</td>\n",
       "      <td>0</td>\n",
       "      <td>96.8</td>\n",
       "      <td>0</td>\n",
       "      <td>55.50</td>\n",
       "      <td>1</td>\n",
       "      <td>False</td>\n",
       "      <td>True</td>\n",
       "      <td>False</td>\n",
       "      <td>True</td>\n",
       "      <td>False</td>\n",
       "      <td>False</td>\n",
       "    </tr>\n",
       "  </tbody>\n",
       "</table>\n",
       "</div>"
      ],
      "text/plain": [
       "   gender  ssc_p    ssc_b  hsc_p    hsc_b  degree_p  workex  etest_p  \\\n",
       "0       1  67.00   Others  91.00   Others     58.00       0     55.0   \n",
       "1       1  79.33  Central  78.33   Others     77.48       1     86.5   \n",
       "2       1  65.00  Central  68.00  Central     64.00       0     75.0   \n",
       "3       1  56.00  Central  52.00  Central     52.00       0     66.0   \n",
       "4       1  85.80  Central  73.60  Central     73.30       0     96.8   \n",
       "\n",
       "   specialisation  mba_p  status  dummy_Arts  dummy_Commerce  dummy_Science  \\\n",
       "0               1  58.80       1       False            True          False   \n",
       "1               0  66.28       1       False           False           True   \n",
       "2               0  57.80       1        True           False          False   \n",
       "3               1  59.43       0       False           False           True   \n",
       "4               0  55.50       1       False            True          False   \n",
       "\n",
       "   dummy_Comm&Mgmt  dummy_Others  dummy_Sci&Tech  \n",
       "0            False         False            True  \n",
       "1            False         False            True  \n",
       "2             True         False           False  \n",
       "3            False         False            True  \n",
       "4             True         False           False  "
      ]
     },
     "execution_count": 99,
     "metadata": {},
     "output_type": "execute_result"
    }
   ],
   "source": [
    "df.head()"
   ]
  },
  {
   "cell_type": "markdown",
   "metadata": {},
   "source": [
    "#### I am also planning to normalize the data as some models can be affect by it and can provide the preference to the data which has higher value."
   ]
  },
  {
   "cell_type": "code",
   "execution_count": 100,
   "metadata": {},
   "outputs": [],
   "source": [
    "# from sklearn.preprocessing import StandardScaler\n",
    "# # Columns to normalize (excluding binary categorical columns)\n",
    "# columns_to_normalize = ['ssc_p', 'hsc_p', 'degree_p', 'etest_p', 'mba_p']\n",
    "\n",
    "# # Initialize the StandardScaler\n",
    "# scaler = StandardScaler()\n",
    "\n",
    "# # Fit and transform the data\n",
    "# df[columns_to_normalize] = scaler.fit_transform(df[columns_to_normalize])"
   ]
  },
  {
   "cell_type": "code",
   "execution_count": 101,
   "metadata": {},
   "outputs": [
    {
     "data": {
      "text/html": [
       "<div>\n",
       "<style scoped>\n",
       "    .dataframe tbody tr th:only-of-type {\n",
       "        vertical-align: middle;\n",
       "    }\n",
       "\n",
       "    .dataframe tbody tr th {\n",
       "        vertical-align: top;\n",
       "    }\n",
       "\n",
       "    .dataframe thead th {\n",
       "        text-align: right;\n",
       "    }\n",
       "</style>\n",
       "<table border=\"1\" class=\"dataframe\">\n",
       "  <thead>\n",
       "    <tr style=\"text-align: right;\">\n",
       "      <th></th>\n",
       "      <th>gender</th>\n",
       "      <th>ssc_p</th>\n",
       "      <th>ssc_b</th>\n",
       "      <th>hsc_p</th>\n",
       "      <th>hsc_b</th>\n",
       "      <th>degree_p</th>\n",
       "      <th>workex</th>\n",
       "      <th>etest_p</th>\n",
       "      <th>specialisation</th>\n",
       "      <th>mba_p</th>\n",
       "      <th>status</th>\n",
       "      <th>dummy_Arts</th>\n",
       "      <th>dummy_Commerce</th>\n",
       "      <th>dummy_Science</th>\n",
       "      <th>dummy_Comm&amp;Mgmt</th>\n",
       "      <th>dummy_Others</th>\n",
       "      <th>dummy_Sci&amp;Tech</th>\n",
       "    </tr>\n",
       "  </thead>\n",
       "  <tbody>\n",
       "    <tr>\n",
       "      <th>0</th>\n",
       "      <td>1</td>\n",
       "      <td>67.00</td>\n",
       "      <td>Others</td>\n",
       "      <td>91.00</td>\n",
       "      <td>Others</td>\n",
       "      <td>58.00</td>\n",
       "      <td>0</td>\n",
       "      <td>55.0</td>\n",
       "      <td>1</td>\n",
       "      <td>58.80</td>\n",
       "      <td>1</td>\n",
       "      <td>False</td>\n",
       "      <td>True</td>\n",
       "      <td>False</td>\n",
       "      <td>False</td>\n",
       "      <td>False</td>\n",
       "      <td>True</td>\n",
       "    </tr>\n",
       "    <tr>\n",
       "      <th>1</th>\n",
       "      <td>1</td>\n",
       "      <td>79.33</td>\n",
       "      <td>Central</td>\n",
       "      <td>78.33</td>\n",
       "      <td>Others</td>\n",
       "      <td>77.48</td>\n",
       "      <td>1</td>\n",
       "      <td>86.5</td>\n",
       "      <td>0</td>\n",
       "      <td>66.28</td>\n",
       "      <td>1</td>\n",
       "      <td>False</td>\n",
       "      <td>False</td>\n",
       "      <td>True</td>\n",
       "      <td>False</td>\n",
       "      <td>False</td>\n",
       "      <td>True</td>\n",
       "    </tr>\n",
       "    <tr>\n",
       "      <th>2</th>\n",
       "      <td>1</td>\n",
       "      <td>65.00</td>\n",
       "      <td>Central</td>\n",
       "      <td>68.00</td>\n",
       "      <td>Central</td>\n",
       "      <td>64.00</td>\n",
       "      <td>0</td>\n",
       "      <td>75.0</td>\n",
       "      <td>0</td>\n",
       "      <td>57.80</td>\n",
       "      <td>1</td>\n",
       "      <td>True</td>\n",
       "      <td>False</td>\n",
       "      <td>False</td>\n",
       "      <td>True</td>\n",
       "      <td>False</td>\n",
       "      <td>False</td>\n",
       "    </tr>\n",
       "    <tr>\n",
       "      <th>3</th>\n",
       "      <td>1</td>\n",
       "      <td>56.00</td>\n",
       "      <td>Central</td>\n",
       "      <td>52.00</td>\n",
       "      <td>Central</td>\n",
       "      <td>52.00</td>\n",
       "      <td>0</td>\n",
       "      <td>66.0</td>\n",
       "      <td>1</td>\n",
       "      <td>59.43</td>\n",
       "      <td>0</td>\n",
       "      <td>False</td>\n",
       "      <td>False</td>\n",
       "      <td>True</td>\n",
       "      <td>False</td>\n",
       "      <td>False</td>\n",
       "      <td>True</td>\n",
       "    </tr>\n",
       "    <tr>\n",
       "      <th>4</th>\n",
       "      <td>1</td>\n",
       "      <td>85.80</td>\n",
       "      <td>Central</td>\n",
       "      <td>73.60</td>\n",
       "      <td>Central</td>\n",
       "      <td>73.30</td>\n",
       "      <td>0</td>\n",
       "      <td>96.8</td>\n",
       "      <td>0</td>\n",
       "      <td>55.50</td>\n",
       "      <td>1</td>\n",
       "      <td>False</td>\n",
       "      <td>True</td>\n",
       "      <td>False</td>\n",
       "      <td>True</td>\n",
       "      <td>False</td>\n",
       "      <td>False</td>\n",
       "    </tr>\n",
       "  </tbody>\n",
       "</table>\n",
       "</div>"
      ],
      "text/plain": [
       "   gender  ssc_p    ssc_b  hsc_p    hsc_b  degree_p  workex  etest_p  \\\n",
       "0       1  67.00   Others  91.00   Others     58.00       0     55.0   \n",
       "1       1  79.33  Central  78.33   Others     77.48       1     86.5   \n",
       "2       1  65.00  Central  68.00  Central     64.00       0     75.0   \n",
       "3       1  56.00  Central  52.00  Central     52.00       0     66.0   \n",
       "4       1  85.80  Central  73.60  Central     73.30       0     96.8   \n",
       "\n",
       "   specialisation  mba_p  status  dummy_Arts  dummy_Commerce  dummy_Science  \\\n",
       "0               1  58.80       1       False            True          False   \n",
       "1               0  66.28       1       False           False           True   \n",
       "2               0  57.80       1        True           False          False   \n",
       "3               1  59.43       0       False           False           True   \n",
       "4               0  55.50       1       False            True          False   \n",
       "\n",
       "   dummy_Comm&Mgmt  dummy_Others  dummy_Sci&Tech  \n",
       "0            False         False            True  \n",
       "1            False         False            True  \n",
       "2             True         False           False  \n",
       "3            False         False            True  \n",
       "4             True         False           False  "
      ]
     },
     "execution_count": 101,
     "metadata": {},
     "output_type": "execute_result"
    }
   ],
   "source": [
    "df.head()"
   ]
  },
  {
   "cell_type": "markdown",
   "metadata": {},
   "source": [
    "#### I am also dropping some columns which are not useful for my analysis."
   ]
  },
  {
   "cell_type": "code",
   "execution_count": 102,
   "metadata": {},
   "outputs": [],
   "source": [
    "df.drop(['ssc_b','hsc_b'], axis=1, inplace=True)"
   ]
  },
  {
   "cell_type": "markdown",
   "metadata": {},
   "source": [
    "## Split the data"
   ]
  },
  {
   "cell_type": "code",
   "execution_count": 103,
   "metadata": {},
   "outputs": [],
   "source": [
    "# split the data into two parts\n",
    "X=df.drop('status',axis=1)\n",
    "y=df['status']"
   ]
  },
  {
   "cell_type": "code",
   "execution_count": 104,
   "metadata": {},
   "outputs": [],
   "source": [
    "# split into train & test\n",
    "from sklearn.model_selection import train_test_split\n",
    "X_train,X_test,y_train,y_test=train_test_split(X,y,test_size=0.3,random_state=1)"
   ]
  },
  {
   "cell_type": "markdown",
   "metadata": {},
   "source": [
    "## Build the model by using voting classifier"
   ]
  },
  {
   "cell_type": "code",
   "execution_count": 105,
   "metadata": {},
   "outputs": [],
   "source": [
    "from sklearn.linear_model import LogisticRegression\n",
    "from sklearn.tree import DecisionTreeClassifier\n",
    "from sklearn.ensemble import RandomForestClassifier\n",
    "from sklearn.metrics import accuracy_score, confusion_matrix, classification_report, roc_curve, auc"
   ]
  },
  {
   "cell_type": "code",
   "execution_count": 106,
   "metadata": {},
   "outputs": [
    {
     "name": "stdout",
     "output_type": "stream",
     "text": [
      "LogisticRegression : 0.8412698412698413\n",
      "DecisionTree : 0.7936507936507936\n",
      "RandomForest : 0.8253968253968254\n"
     ]
    }
   ],
   "source": [
    "classifiers = [['LogisticRegression :', LogisticRegression(max_iter = 1000)],\n",
    "               ['DecisionTree :',DecisionTreeClassifier()],\n",
    "               ['RandomForest :',RandomForestClassifier()]]\n",
    "\n",
    "predictions_df = pd.DataFrame()\n",
    "predictions_df['action'] = y_test\n",
    "\n",
    "for name,classifier in classifiers:\n",
    "    classifier = classifier\n",
    "    classifier.fit(X_train, y_train.ravel())\n",
    "    predictions = classifier.predict(X_test)\n",
    "    predictions_df[name.strip(\" :\")] = predictions\n",
    "    print(name, accuracy_score(y_test, predictions))"
   ]
  },
  {
   "cell_type": "code",
   "execution_count": 107,
   "metadata": {},
   "outputs": [
    {
     "name": "stdout",
     "output_type": "stream",
     "text": [
      "LogisticRegression : Accuracy: 0.8413\n",
      "LogisticRegression : Classification Report:\n",
      "              precision    recall  f1-score   support\n",
      "\n",
      "           0       0.83      0.68      0.75        22\n",
      "           1       0.84      0.93      0.88        41\n",
      "\n",
      "    accuracy                           0.84        63\n",
      "   macro avg       0.84      0.80      0.82        63\n",
      "weighted avg       0.84      0.84      0.84        63\n",
      "\n",
      "----------------------------------------\n",
      "DecisionTree : Accuracy: 0.7937\n",
      "DecisionTree : Classification Report:\n",
      "              precision    recall  f1-score   support\n",
      "\n",
      "           0       0.76      0.59      0.67        22\n",
      "           1       0.80      0.90      0.85        41\n",
      "\n",
      "    accuracy                           0.79        63\n",
      "   macro avg       0.78      0.75      0.76        63\n",
      "weighted avg       0.79      0.79      0.79        63\n",
      "\n",
      "----------------------------------------\n",
      "RandomForest : Accuracy: 0.8095\n",
      "RandomForest : Classification Report:\n",
      "              precision    recall  f1-score   support\n",
      "\n",
      "           0       0.92      0.50      0.65        22\n",
      "           1       0.78      0.98      0.87        41\n",
      "\n",
      "    accuracy                           0.81        63\n",
      "   macro avg       0.85      0.74      0.76        63\n",
      "weighted avg       0.83      0.81      0.79        63\n",
      "\n",
      "----------------------------------------\n"
     ]
    },
    {
     "data": {
      "image/png": "[encoded data removed]",
      "text/plain": [
       "<Figure size 640x480 with 1 Axes>"
      ]
     },
     "metadata": {},
     "output_type": "display_data"
    }
   ],
   "source": [
    "for name, classifier in classifiers:\n",
    "    classifier.fit(X_train, y_train.ravel())\n",
    "    predictions = classifier.predict(X_test)\n",
    "    predictions_df[name.strip(\" :\")] = predictions\n",
    "    \n",
    "    # Calculate accuracy\n",
    "    accuracy = accuracy_score(y_test, predictions)\n",
    "    print(f\"{name} Accuracy: {accuracy:.4f}\")\n",
    "    \n",
    "    # Calculate and print classification report\n",
    "    print(f\"{name} Classification Report:\")\n",
    "    print(classification_report(y_test, predictions))\n",
    "    print(\"----------------------------------------\")\n",
    "\n",
    "    # Calculate ROC curve and AUC\n",
    "    fpr, tpr, thresholds = roc_curve(y_test, classifier.predict_proba(X_test)[:, 1])\n",
    "    roc_auc = auc(fpr, tpr)\n",
    "    \n",
    "    # Plot ROC curve\n",
    "    plt.plot(fpr, tpr, label=f'{name.strip(\" :\")} (AUC = {roc_auc:.2f})')\n",
    "\n",
    "# Plot ROC curve for random guessing (baseline)\n",
    "plt.plot([0, 1], [0, 1], linestyle='--', color='gray', label='Random Guessing')\n",
    "\n",
    "# Set labels and title\n",
    "plt.xlabel('False Positive Rate')\n",
    "plt.ylabel('True Positive Rate')\n",
    "plt.title('Receiver Operating Characteristic (ROC) Curves')\n",
    "plt.legend(loc='lower right')\n",
    "plt.grid(True)\n",
    "plt.show()"
   ]
  },
  {
   "cell_type": "code",
   "execution_count": 108,
   "metadata": {},
   "outputs": [
    {
     "name": "stdout",
     "output_type": "stream",
     "text": [
      "              precision    recall  f1-score   support\n",
      "\n",
      "           0       0.92      0.55      0.69        22\n",
      "           1       0.80      0.98      0.88        41\n",
      "\n",
      "    accuracy                           0.83        63\n",
      "   macro avg       0.86      0.76      0.78        63\n",
      "weighted avg       0.84      0.83      0.81        63\n",
      "\n"
     ]
    }
   ],
   "source": [
    "from sklearn.ensemble import VotingClassifier\n",
    "clf1 = LogisticRegression(max_iter = 1000)\n",
    "clf2 = DecisionTreeClassifier()\n",
    "clf3 = RandomForestClassifier()\n",
    "eclf1 = VotingClassifier(estimators=[('LR', clf1), ('DT', clf2), ('RF', clf3)], voting='soft')\n",
    "eclf1.fit(X_train, y_train)\n",
    "predictions = eclf1.predict(X_test)\n",
    "print(classification_report(y_test, predictions))"
   ]
  },
  {
   "cell_type": "code",
   "execution_count": 109,
   "metadata": {},
   "outputs": [
    {
     "name": "stdout",
     "output_type": "stream",
     "text": [
      "              precision    recall  f1-score   support\n",
      "\n",
      "           0       0.85      0.50      0.63        22\n",
      "           1       0.78      0.95      0.86        41\n",
      "\n",
      "    accuracy                           0.79        63\n",
      "   macro avg       0.81      0.73      0.74        63\n",
      "weighted avg       0.80      0.79      0.78        63\n",
      "\n"
     ]
    }
   ],
   "source": [
    "eclf2 = VotingClassifier(estimators=[('LR', clf1), ('DT', clf2), ('RF', clf3)], voting='hard')\n",
    "eclf2.fit(X_train, y_train)\n",
    "predictions = eclf2.predict(X_test)\n",
    "print(classification_report(y_test, predictions))"
   ]
  },
  {
   "cell_type": "code",
   "execution_count": 110,
   "metadata": {},
   "outputs": [
    {
     "name": "stdout",
     "output_type": "stream",
     "text": [
      "[0.8590476190476191, 0.7838095238095237, 0.8395238095238096]\n"
     ]
    }
   ],
   "source": [
    "from sklearn.model_selection import cross_val_score\n",
    "c = []\n",
    "c.append(cross_val_score(clf1,X_train,y_train,scoring='accuracy',cv=10).mean())\n",
    "c.append(cross_val_score(clf2,X_train,y_train,scoring='accuracy',cv=10).mean())\n",
    "c.append(cross_val_score(clf3,X_train,y_train,scoring='accuracy',cv=10).mean())\n",
    "print(c)"
   ]
  },
  {
   "cell_type": "code",
   "execution_count": 111,
   "metadata": {},
   "outputs": [
    {
     "name": "stdout",
     "output_type": "stream",
     "text": [
      "Fitting 5 folds for each of 9 candidates, totalling 45 fits\n",
      "Fitting 5 folds for each of 12 candidates, totalling 60 fits\n",
      "Fitting 5 folds for each of 27 candidates, totalling 135 fits\n",
      "Logistic Regression - Best Parameters:  {'C': 1, 'max_iter': 100, 'solver': 'liblinear'}\n",
      "Logistic Regression - Best Score:  0.8472906403940886\n",
      "\n",
      "Decision Tree - Best Parameters:  {'max_depth': 20, 'min_samples_split': 5}\n",
      "Decision Tree - Best Score:  0.7704433497536947\n",
      "\n",
      "Random Forest - Best Parameters:  {'max_depth': None, 'min_samples_split': 2, 'n_estimators': 50}\n",
      "Random Forest - Best Score:  0.8682266009852218\n"
     ]
    }
   ],
   "source": [
    "from sklearn.model_selection import GridSearchCV\n",
    "# Assuming X_train, X_test, y_train, y_test are your training and testing data\n",
    "\n",
    "# Define base classifiers\n",
    "clf1 = LogisticRegression(max_iter=1000)\n",
    "clf2 = DecisionTreeClassifier()\n",
    "clf3 = RandomForestClassifier()\n",
    "\n",
    "# Parameter grids for each classifier\n",
    "param_grid_lr = {\n",
    "    'C': [0.1, 1, 10],\n",
    "    'solver': ['liblinear'],\n",
    "    'max_iter': [100, 200, 300]\n",
    "}\n",
    "\n",
    "param_grid_dt = {\n",
    "    'max_depth': [None, 10, 20, 30],\n",
    "    'min_samples_split': [2, 5, 10]\n",
    "}\n",
    "\n",
    "param_grid_rf = {\n",
    "    'n_estimators': [50, 100, 200],\n",
    "    'max_depth': [None, 10, 20],\n",
    "    'min_samples_split': [2, 5, 10]\n",
    "}\n",
    "\n",
    "# Perform GridSearchCV for each classifier\n",
    "grid_search_lr = GridSearchCV(estimator=clf1, param_grid=param_grid_lr, cv=5, n_jobs=-1, verbose=2)\n",
    "grid_search_dt = GridSearchCV(estimator=clf2, param_grid=param_grid_dt, cv=5, n_jobs=-1, verbose=2)\n",
    "grid_search_rf = GridSearchCV(estimator=clf3, param_grid=param_grid_rf, cv=5, n_jobs=-1, verbose=2)\n",
    "\n",
    "# Fit GridSearchCV to data for each classifier\n",
    "grid_search_lr.fit(X_train, y_train)\n",
    "grid_search_dt.fit(X_train, y_train)\n",
    "grid_search_rf.fit(X_train, y_train)\n",
    "\n",
    "# Print best parameters and best score for each classifier\n",
    "print(\"Logistic Regression - Best Parameters: \", grid_search_lr.best_params_)\n",
    "print(\"Logistic Regression - Best Score: \", grid_search_lr.best_score_)\n",
    "print()\n",
    "print(\"Decision Tree - Best Parameters: \", grid_search_dt.best_params_)\n",
    "print(\"Decision Tree - Best Score: \", grid_search_dt.best_score_)\n",
    "print()\n",
    "print(\"Random Forest - Best Parameters: \", grid_search_rf.best_params_)\n",
    "print(\"Random Forest - Best Score: \", grid_search_rf.best_score_)\n",
    "\n",
    "\n"
   ]
  },
  {
   "cell_type": "markdown",
   "metadata": {},
   "source": [
    "#### As hyperparameter is done, a change can be seen in the percentage of Random Forest.Also, Logistic Regression is performing well before."
   ]
  }
 ],
 "metadata": {
  "kernelspec": {
   "display_name": "Python 3",
   "language": "python",
   "name": "python3"
  },
  "language_info": {
   "codemirror_mode": {
    "name": "ipython",
    "version": 3
   },
   "file_extension": ".py",
   "mimetype": "text/x-python",
   "name": "python",
   "nbconvert_exporter": "python",
   "pygments_lexer": "ipython3",
   "version": "3.11.3"
  }
 },
 "nbformat": 4,
 "nbformat_minor": 2
}
